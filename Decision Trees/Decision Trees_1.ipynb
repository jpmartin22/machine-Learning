{
 "cells": [
  {
   "cell_type": "code",
   "execution_count": 23,
   "metadata": {},
   "outputs": [],
   "source": [
    "#import all libraries\n",
    "\n",
    "import numpy as np\n",
    "import pandas as pd\n",
    "\n",
    "import matplotlib.pyplot as plt\n",
    "import seaborn as sns\n",
    "%matplotlib inline\n",
    "\n",
    "from sklearn import tree\n",
    "import pydotplus\n",
    "from sklearn.tree import DecisionTreeClassifier\n",
    "import matplotlib.pyplot as plt\n",
    "import matplotlib.image as pltimg\n",
    "\n",
    "from sklearn.model_selection import train_test_split"
   ]
  },
  {
   "cell_type": "code",
   "execution_count": 39,
   "metadata": {},
   "outputs": [
    {
     "data": {
      "text/plain": [
       "'C:\\\\Users\\\\ASUS\\\\Desktop\\\\Machine Learning\\\\Supervised Learning Essential Training\\\\Ex_Files_Supervised_Learning\\\\Ex_Files_Supervised_Learning\\\\Exercise Files\\\\03\\\\03_04'"
      ]
     },
     "execution_count": 39,
     "metadata": {},
     "output_type": "execute_result"
    }
   ],
   "source": [
    "pwd()"
   ]
  },
  {
   "cell_type": "code",
   "execution_count": 24,
   "metadata": {},
   "outputs": [],
   "source": [
    "# load Occupancy Data\n",
    "\n",
    "room1 = pd.read_csv(\"C:/Users/ASUS/Desktop/Machine Learning/Supervised Learning Essential Training/Ex_Files_Supervised_Learning/Ex_Files_Supervised_Learning/Exercise Files/Data/datatest.txt\", sep=',', header=0)\n",
    "room2 = pd.read_csv(\"C:/Users/ASUS/Desktop/Machine Learning/Supervised Learning Essential Training/Ex_Files_Supervised_Learning/Ex_Files_Supervised_Learning/Exercise Files/Data/datatraining.txt\", sep=',', header=0)"
   ]
  },
  {
   "cell_type": "code",
   "execution_count": 25,
   "metadata": {},
   "outputs": [],
   "source": [
    "room = pd.concat([room1, room2])"
   ]
  },
  {
   "cell_type": "code",
   "execution_count": 26,
   "metadata": {},
   "outputs": [
    {
     "data": {
      "text/html": [
       "<div>\n",
       "<style scoped>\n",
       "    .dataframe tbody tr th:only-of-type {\n",
       "        vertical-align: middle;\n",
       "    }\n",
       "\n",
       "    .dataframe tbody tr th {\n",
       "        vertical-align: top;\n",
       "    }\n",
       "\n",
       "    .dataframe thead th {\n",
       "        text-align: right;\n",
       "    }\n",
       "</style>\n",
       "<table border=\"1\" class=\"dataframe\">\n",
       "  <thead>\n",
       "    <tr style=\"text-align: right;\">\n",
       "      <th></th>\n",
       "      <th>date</th>\n",
       "      <th>Temperature</th>\n",
       "      <th>Humidity</th>\n",
       "      <th>Light</th>\n",
       "      <th>CO2</th>\n",
       "      <th>HumidityRatio</th>\n",
       "      <th>Occupancy</th>\n",
       "    </tr>\n",
       "  </thead>\n",
       "  <tbody>\n",
       "    <tr>\n",
       "      <th>140</th>\n",
       "      <td>2015-02-02 14:19:00</td>\n",
       "      <td>23.7000</td>\n",
       "      <td>26.272</td>\n",
       "      <td>585.200000</td>\n",
       "      <td>749.200000</td>\n",
       "      <td>0.004764</td>\n",
       "      <td>1</td>\n",
       "    </tr>\n",
       "    <tr>\n",
       "      <th>141</th>\n",
       "      <td>2015-02-02 14:19:59</td>\n",
       "      <td>23.7180</td>\n",
       "      <td>26.290</td>\n",
       "      <td>578.400000</td>\n",
       "      <td>760.400000</td>\n",
       "      <td>0.004773</td>\n",
       "      <td>1</td>\n",
       "    </tr>\n",
       "    <tr>\n",
       "      <th>142</th>\n",
       "      <td>2015-02-02 14:21:00</td>\n",
       "      <td>23.7300</td>\n",
       "      <td>26.230</td>\n",
       "      <td>572.666667</td>\n",
       "      <td>769.666667</td>\n",
       "      <td>0.004765</td>\n",
       "      <td>1</td>\n",
       "    </tr>\n",
       "    <tr>\n",
       "      <th>143</th>\n",
       "      <td>2015-02-02 14:22:00</td>\n",
       "      <td>23.7225</td>\n",
       "      <td>26.125</td>\n",
       "      <td>493.750000</td>\n",
       "      <td>774.750000</td>\n",
       "      <td>0.004744</td>\n",
       "      <td>1</td>\n",
       "    </tr>\n",
       "    <tr>\n",
       "      <th>144</th>\n",
       "      <td>2015-02-02 14:23:00</td>\n",
       "      <td>23.7540</td>\n",
       "      <td>26.200</td>\n",
       "      <td>488.600000</td>\n",
       "      <td>779.000000</td>\n",
       "      <td>0.004767</td>\n",
       "      <td>1</td>\n",
       "    </tr>\n",
       "  </tbody>\n",
       "</table>\n",
       "</div>"
      ],
      "text/plain": [
       "                    date  Temperature  Humidity       Light         CO2  \\\n",
       "140  2015-02-02 14:19:00      23.7000    26.272  585.200000  749.200000   \n",
       "141  2015-02-02 14:19:59      23.7180    26.290  578.400000  760.400000   \n",
       "142  2015-02-02 14:21:00      23.7300    26.230  572.666667  769.666667   \n",
       "143  2015-02-02 14:22:00      23.7225    26.125  493.750000  774.750000   \n",
       "144  2015-02-02 14:23:00      23.7540    26.200  488.600000  779.000000   \n",
       "\n",
       "     HumidityRatio  Occupancy  \n",
       "140       0.004764          1  \n",
       "141       0.004773          1  \n",
       "142       0.004765          1  \n",
       "143       0.004744          1  \n",
       "144       0.004767          1  "
      ]
     },
     "execution_count": 26,
     "metadata": {},
     "output_type": "execute_result"
    }
   ],
   "source": [
    "# View room data\n",
    "room.head()\n"
   ]
  },
  {
   "cell_type": "code",
   "execution_count": 27,
   "metadata": {},
   "outputs": [
    {
     "data": {
      "text/html": [
       "<div>\n",
       "<style scoped>\n",
       "    .dataframe tbody tr th:only-of-type {\n",
       "        vertical-align: middle;\n",
       "    }\n",
       "\n",
       "    .dataframe tbody tr th {\n",
       "        vertical-align: top;\n",
       "    }\n",
       "\n",
       "    .dataframe thead th {\n",
       "        text-align: right;\n",
       "    }\n",
       "</style>\n",
       "<table border=\"1\" class=\"dataframe\">\n",
       "  <thead>\n",
       "    <tr style=\"text-align: right;\">\n",
       "      <th></th>\n",
       "      <th>date</th>\n",
       "      <th>Temperature</th>\n",
       "      <th>Humidity</th>\n",
       "      <th>Light</th>\n",
       "      <th>CO2</th>\n",
       "      <th>HumidityRatio</th>\n",
       "      <th>Occupancy</th>\n",
       "    </tr>\n",
       "  </thead>\n",
       "  <tbody>\n",
       "    <tr>\n",
       "      <th>8139</th>\n",
       "      <td>2015-02-10 09:29:00</td>\n",
       "      <td>21.05</td>\n",
       "      <td>36.0975</td>\n",
       "      <td>433.0</td>\n",
       "      <td>787.250000</td>\n",
       "      <td>0.005579</td>\n",
       "      <td>1</td>\n",
       "    </tr>\n",
       "    <tr>\n",
       "      <th>8140</th>\n",
       "      <td>2015-02-10 09:29:59</td>\n",
       "      <td>21.05</td>\n",
       "      <td>35.9950</td>\n",
       "      <td>433.0</td>\n",
       "      <td>789.500000</td>\n",
       "      <td>0.005563</td>\n",
       "      <td>1</td>\n",
       "    </tr>\n",
       "    <tr>\n",
       "      <th>8141</th>\n",
       "      <td>2015-02-10 09:30:59</td>\n",
       "      <td>21.10</td>\n",
       "      <td>36.0950</td>\n",
       "      <td>433.0</td>\n",
       "      <td>798.500000</td>\n",
       "      <td>0.005596</td>\n",
       "      <td>1</td>\n",
       "    </tr>\n",
       "    <tr>\n",
       "      <th>8142</th>\n",
       "      <td>2015-02-10 09:32:00</td>\n",
       "      <td>21.10</td>\n",
       "      <td>36.2600</td>\n",
       "      <td>433.0</td>\n",
       "      <td>820.333333</td>\n",
       "      <td>0.005621</td>\n",
       "      <td>1</td>\n",
       "    </tr>\n",
       "    <tr>\n",
       "      <th>8143</th>\n",
       "      <td>2015-02-10 09:33:00</td>\n",
       "      <td>21.10</td>\n",
       "      <td>36.2000</td>\n",
       "      <td>447.0</td>\n",
       "      <td>821.000000</td>\n",
       "      <td>0.005612</td>\n",
       "      <td>1</td>\n",
       "    </tr>\n",
       "  </tbody>\n",
       "</table>\n",
       "</div>"
      ],
      "text/plain": [
       "                     date  Temperature  Humidity  Light         CO2  \\\n",
       "8139  2015-02-10 09:29:00        21.05   36.0975  433.0  787.250000   \n",
       "8140  2015-02-10 09:29:59        21.05   35.9950  433.0  789.500000   \n",
       "8141  2015-02-10 09:30:59        21.10   36.0950  433.0  798.500000   \n",
       "8142  2015-02-10 09:32:00        21.10   36.2600  433.0  820.333333   \n",
       "8143  2015-02-10 09:33:00        21.10   36.2000  447.0  821.000000   \n",
       "\n",
       "      HumidityRatio  Occupancy  \n",
       "8139       0.005579          1  \n",
       "8140       0.005563          1  \n",
       "8141       0.005596          1  \n",
       "8142       0.005621          1  \n",
       "8143       0.005612          1  "
      ]
     },
     "execution_count": 27,
     "metadata": {},
     "output_type": "execute_result"
    }
   ],
   "source": [
    "# View the last 5 rows of room data\n",
    "\n",
    "room.tail()"
   ]
  },
  {
   "cell_type": "code",
   "execution_count": 28,
   "metadata": {},
   "outputs": [
    {
     "data": {
      "text/html": [
       "<div>\n",
       "<style scoped>\n",
       "    .dataframe tbody tr th:only-of-type {\n",
       "        vertical-align: middle;\n",
       "    }\n",
       "\n",
       "    .dataframe tbody tr th {\n",
       "        vertical-align: top;\n",
       "    }\n",
       "\n",
       "    .dataframe thead th {\n",
       "        text-align: right;\n",
       "    }\n",
       "</style>\n",
       "<table border=\"1\" class=\"dataframe\">\n",
       "  <thead>\n",
       "    <tr style=\"text-align: right;\">\n",
       "      <th></th>\n",
       "      <th>Temperature</th>\n",
       "      <th>Humidity</th>\n",
       "      <th>Light</th>\n",
       "      <th>CO2</th>\n",
       "      <th>HumidityRatio</th>\n",
       "      <th>Occupancy</th>\n",
       "    </tr>\n",
       "  </thead>\n",
       "  <tbody>\n",
       "    <tr>\n",
       "      <th>count</th>\n",
       "      <td>10808.000000</td>\n",
       "      <td>10808.000000</td>\n",
       "      <td>10808.000000</td>\n",
       "      <td>10808.00000</td>\n",
       "      <td>10808.000000</td>\n",
       "      <td>10808.000000</td>\n",
       "    </tr>\n",
       "    <tr>\n",
       "      <th>mean</th>\n",
       "      <td>20.819992</td>\n",
       "      <td>25.638407</td>\n",
       "      <td>137.694088</td>\n",
       "      <td>634.00507</td>\n",
       "      <td>0.003903</td>\n",
       "      <td>0.249907</td>\n",
       "    </tr>\n",
       "    <tr>\n",
       "      <th>std</th>\n",
       "      <td>1.078410</td>\n",
       "      <td>4.953792</td>\n",
       "      <td>212.175483</td>\n",
       "      <td>312.81727</td>\n",
       "      <td>0.000803</td>\n",
       "      <td>0.432979</td>\n",
       "    </tr>\n",
       "    <tr>\n",
       "      <th>min</th>\n",
       "      <td>19.000000</td>\n",
       "      <td>16.745000</td>\n",
       "      <td>0.000000</td>\n",
       "      <td>412.75000</td>\n",
       "      <td>0.002674</td>\n",
       "      <td>0.000000</td>\n",
       "    </tr>\n",
       "    <tr>\n",
       "      <th>25%</th>\n",
       "      <td>20.000000</td>\n",
       "      <td>21.390000</td>\n",
       "      <td>0.000000</td>\n",
       "      <td>441.00000</td>\n",
       "      <td>0.003323</td>\n",
       "      <td>0.000000</td>\n",
       "    </tr>\n",
       "    <tr>\n",
       "      <th>50%</th>\n",
       "      <td>20.700000</td>\n",
       "      <td>25.680000</td>\n",
       "      <td>0.000000</td>\n",
       "      <td>464.00000</td>\n",
       "      <td>0.003805</td>\n",
       "      <td>0.000000</td>\n",
       "    </tr>\n",
       "    <tr>\n",
       "      <th>75%</th>\n",
       "      <td>21.500000</td>\n",
       "      <td>28.324167</td>\n",
       "      <td>413.541667</td>\n",
       "      <td>761.00000</td>\n",
       "      <td>0.004372</td>\n",
       "      <td>0.000000</td>\n",
       "    </tr>\n",
       "    <tr>\n",
       "      <th>max</th>\n",
       "      <td>24.408333</td>\n",
       "      <td>39.117500</td>\n",
       "      <td>1697.250000</td>\n",
       "      <td>2028.50000</td>\n",
       "      <td>0.006476</td>\n",
       "      <td>1.000000</td>\n",
       "    </tr>\n",
       "  </tbody>\n",
       "</table>\n",
       "</div>"
      ],
      "text/plain": [
       "        Temperature      Humidity         Light          CO2  HumidityRatio  \\\n",
       "count  10808.000000  10808.000000  10808.000000  10808.00000   10808.000000   \n",
       "mean      20.819992     25.638407    137.694088    634.00507       0.003903   \n",
       "std        1.078410      4.953792    212.175483    312.81727       0.000803   \n",
       "min       19.000000     16.745000      0.000000    412.75000       0.002674   \n",
       "25%       20.000000     21.390000      0.000000    441.00000       0.003323   \n",
       "50%       20.700000     25.680000      0.000000    464.00000       0.003805   \n",
       "75%       21.500000     28.324167    413.541667    761.00000       0.004372   \n",
       "max       24.408333     39.117500   1697.250000   2028.50000       0.006476   \n",
       "\n",
       "          Occupancy  \n",
       "count  10808.000000  \n",
       "mean       0.249907  \n",
       "std        0.432979  \n",
       "min        0.000000  \n",
       "25%        0.000000  \n",
       "50%        0.000000  \n",
       "75%        0.000000  \n",
       "max        1.000000  "
      ]
     },
     "execution_count": 28,
     "metadata": {},
     "output_type": "execute_result"
    }
   ],
   "source": [
    "room.describe()"
   ]
  },
  {
   "cell_type": "code",
   "execution_count": 29,
   "metadata": {},
   "outputs": [
    {
     "name": "stdout",
     "output_type": "stream",
     "text": [
      "Occupancy        0\n",
      "HumidityRatio    0\n",
      "CO2              0\n",
      "Light            0\n",
      "Humidity         0\n",
      "Temperature      0\n",
      "date             0\n",
      "dtype: int64\n"
     ]
    }
   ],
   "source": [
    "# Check for missing data\n",
    "total = room.isnull().sum().sort_values(ascending=False)\n",
    "print(total)"
   ]
  },
  {
   "cell_type": "code",
   "execution_count": 30,
   "metadata": {},
   "outputs": [
    {
     "data": {
      "image/png": "[encoded data removed]",
      "text/plain": [
       "<Figure size 864x576 with 2 Axes>"
      ]
     },
     "metadata": {
      "needs_background": "light"
     },
     "output_type": "display_data"
    }
   ],
   "source": [
    "plt.figure(figsize=(12,8))\n",
    "ax = sns.heatmap(room.corr(), cmap='Purples', annot=True)\n",
    "plt.show()"
   ]
  },
  {
   "cell_type": "code",
   "execution_count": 31,
   "metadata": {},
   "outputs": [
    {
     "data": {
      "text/html": [
       "<div>\n",
       "<style scoped>\n",
       "    .dataframe tbody tr th:only-of-type {\n",
       "        vertical-align: middle;\n",
       "    }\n",
       "\n",
       "    .dataframe tbody tr th {\n",
       "        vertical-align: top;\n",
       "    }\n",
       "\n",
       "    .dataframe thead th {\n",
       "        text-align: right;\n",
       "    }\n",
       "</style>\n",
       "<table border=\"1\" class=\"dataframe\">\n",
       "  <thead>\n",
       "    <tr style=\"text-align: right;\">\n",
       "      <th></th>\n",
       "      <th>Occupancy</th>\n",
       "    </tr>\n",
       "  </thead>\n",
       "  <tbody>\n",
       "    <tr>\n",
       "      <th>Occupancy</th>\n",
       "      <td>1.000000</td>\n",
       "    </tr>\n",
       "    <tr>\n",
       "      <th>Light</th>\n",
       "      <td>0.915363</td>\n",
       "    </tr>\n",
       "    <tr>\n",
       "      <th>CO2</th>\n",
       "      <td>0.729540</td>\n",
       "    </tr>\n",
       "    <tr>\n",
       "      <th>Temperature</th>\n",
       "      <td>0.595005</td>\n",
       "    </tr>\n",
       "    <tr>\n",
       "      <th>HumidityRatio</th>\n",
       "      <td>0.386346</td>\n",
       "    </tr>\n",
       "    <tr>\n",
       "      <th>Humidity</th>\n",
       "      <td>0.183020</td>\n",
       "    </tr>\n",
       "  </tbody>\n",
       "</table>\n",
       "</div>"
      ],
      "text/plain": [
       "               Occupancy\n",
       "Occupancy       1.000000\n",
       "Light           0.915363\n",
       "CO2             0.729540\n",
       "Temperature     0.595005\n",
       "HumidityRatio   0.386346\n",
       "Humidity        0.183020"
      ]
     },
     "execution_count": 31,
     "metadata": {},
     "output_type": "execute_result"
    }
   ],
   "source": [
    "# Print correlations of Occupancy response variable\n",
    "\n",
    "room.corr()[['Occupancy']].sort_values(by='Occupancy',ascending=False)"
   ]
  },
  {
   "cell_type": "code",
   "execution_count": 32,
   "metadata": {},
   "outputs": [
    {
     "data": {
      "text/plain": [
       "0    8107\n",
       "1    2701\n",
       "Name: Occupancy, dtype: int64"
      ]
     },
     "execution_count": 32,
     "metadata": {},
     "output_type": "execute_result"
    }
   ],
   "source": [
    "# proportion of occupancy variable\n",
    "room['Occupancy'].value_counts()"
   ]
  },
  {
   "cell_type": "code",
   "execution_count": 33,
   "metadata": {},
   "outputs": [
    {
     "name": "stdout",
     "output_type": "stream",
     "text": [
      "           Light         CO2  Temperature  HumidityRatio  Humidity\n",
      "140   585.200000  749.200000      23.7000       0.004764   26.2720\n",
      "141   578.400000  760.400000      23.7180       0.004773   26.2900\n",
      "142   572.666667  769.666667      23.7300       0.004765   26.2300\n",
      "143   493.750000  774.750000      23.7225       0.004744   26.1250\n",
      "144   488.600000  779.000000      23.7540       0.004767   26.2000\n",
      "...          ...         ...          ...            ...       ...\n",
      "8139  433.000000  787.250000      21.0500       0.005579   36.0975\n",
      "8140  433.000000  789.500000      21.0500       0.005563   35.9950\n",
      "8141  433.000000  798.500000      21.1000       0.005596   36.0950\n",
      "8142  433.000000  820.333333      21.1000       0.005621   36.2600\n",
      "8143  447.000000  821.000000      21.1000       0.005612   36.2000\n",
      "\n",
      "[10808 rows x 5 columns]\n",
      "140     1\n",
      "141     1\n",
      "142     1\n",
      "143     1\n",
      "144     1\n",
      "       ..\n",
      "8139    1\n",
      "8140    1\n",
      "8141    1\n",
      "8142    1\n",
      "8143    1\n",
      "Name: Occupancy, Length: 10808, dtype: int64\n"
     ]
    }
   ],
   "source": [
    "features = ['Light', 'CO2', 'Temperature', 'HumidityRatio', 'Humidity']\n",
    "\n",
    "x = room[features]\n",
    "y = room['Occupancy']\n",
    "\n",
    "print(x)\n",
    "print(y)"
   ]
  },
  {
   "cell_type": "code",
   "execution_count": 34,
   "metadata": {},
   "outputs": [],
   "source": [
    "x_train, x_test, y_train, y_test = train_test_split(x, y,  test_size=0.30,random_state=42)"
   ]
  },
  {
   "cell_type": "code",
   "execution_count": 41,
   "metadata": {
    "scrolled": true
   },
   "outputs": [
    {
     "data": {
      "image/png": "[encoded data removed]",
      "text/plain": [
       "<Figure size 432x288 with 1 Axes>"
      ]
     },
     "metadata": {
      "needs_background": "light"
     },
     "output_type": "display_data"
    }
   ],
   "source": [
    "import os\n",
    "os.environ[\"PATH\"] += os.pathsep + 'C:/Program Files/Graphviz/bin/'\n",
    "\n",
    "\n",
    "dtree = DecisionTreeClassifier()\n",
    "dtree = dtree.fit(x_train, y_train)\n",
    "data = tree.export_graphviz(dtree, out_file=None, feature_names=features)\n",
    "graph = pydotplus.graph_from_dot_data(data)\n",
    "graph.write_png('mydecisiontree.png')\n",
    "\n",
    "img=pltimg.imread('mydecisiontree.png')\n",
    "imgplot = plt.imshow(img)\n",
    "plt.show()"
   ]
  },
  {
   "cell_type": "code",
   "execution_count": null,
   "metadata": {},
   "outputs": [],
   "source": []
  },
  {
   "cell_type": "code",
   "execution_count": null,
   "metadata": {},
   "outputs": [],
   "source": []
  }
 ],
 "metadata": {
  "kernelspec": {
   "display_name": "Python 3",
   "language": "python",
   "name": "python3"
  },
  "language_info": {
   "codemirror_mode": {
    "name": "ipython",
    "version": 3
   },
   "file_extension": ".py",
   "mimetype": "text/x-python",
   "name": "python",
   "nbconvert_exporter": "python",
   "pygments_lexer": "ipython3",
   "version": "3.8.5"
  }
 },
 "nbformat": 4,
 "nbformat_minor": 4
}
